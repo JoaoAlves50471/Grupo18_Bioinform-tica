{
 "cells": [
  {
   "cell_type": "markdown",
   "metadata": {},
   "source": [
    "## Análise da sequência e das features presentes no NCBI"
   ]
  },
  {
   "cell_type": "markdown",
   "metadata": {},
   "source": [
    "Carregamento do package e dos módulos necessários"
   ]
  },
  {
   "cell_type": "code",
   "execution_count": 1,
   "metadata": {},
   "outputs": [],
   "source": [
    "from Bio import Seq\n",
    "from Bio import SeqIO"
   ]
  },
  {
   "cell_type": "markdown",
   "metadata": {},
   "source": [
    "Abertura e leitura do ficheiro genbank relativamente ao gene HHEX. E respetiva sequência."
   ]
  },
  {
   "cell_type": "code",
   "execution_count": 2,
   "metadata": {},
   "outputs": [
    {
     "name": "stdout",
     "output_type": "stream",
     "text": [
      "AGCTCCAATGTAAACAGAACAGGCAGGGGCCCTGATTCACGGGCCGCTGGGGCCAGGGTTGGGGGTTGGGGGTGCCCACAGGGCTTGGCTAGTGGGGTTTTGGGGGGGCAGTGGGTGCAAGGAGTTTGGTTTGTGTCTGCCGGCCGGCAGGCAAACGCAACCCACGCGGTGGGGGAGGCGGCTAGCGTGGTGGACCCGGGCCGCGTGGCCCTGTGGCAGCCGAGCCATGGTTTCTAAACTGAGCCAGCTGCAGACGGAGCTCCTGGCGGCCCTGCTCGAGTCAGGGCTGAGCAAAGAGGCACTGATCCAGGCACTGGGTGAGCCGGGGCCCTACCTCCTGGCTGGAGAAGGCCCCCTGGACAAGGGGGAGTCCTGCGGCGGCGGTCGAGGGGAGCTGGCTGAGCTGCCCAATGGGCTGGGGGAGACTCGGGGCTCCGAGGACGAGACGGACGACGATGGGGAAGACTTCACGCCACCCATCCTCAAAGAGCTGGAGAACCTCAGCCCTGAGGAGGCGGCCCACCAGAAAGCCGTGGTGGAGACCCTTCTGCAGGAGGACCCGTGGCGTGTGGCGAAGATGGTCAAGTCCTACCTGCAGCAGCACAACATCCCACAGCGGGAGGTGGTCGATACCACTGGCCTCAACCAGTCCCACCTGTCCCAACACCTCAACAAGGGCACTCCCATGAAGACGCAGAAGCGGGCCGCCCTGTACACCTGGTACGTCCGCAAGCAGCGAGAGGTGGCGCAGCAGTTCACCCATGCAGGGCAGGGAGGGCTGATTGAAGAGCCCACAGGTGATGAGCTACCAACCAAGAAGGGGCGGAGGAACCGTTTCAAGTGGGGCCCAGCATCCCAGCAGATCCTGTTCCAGGCCTATGAGAGGCAGAAGAACCCTAGCAAGGAGGAGCGAGAGACGCTAGTGGAGGAGTGCAATAGGGCGGAATGCATCCAGAGAGGGGTGTCCCCATCACAGGCACAGGGGCTGGGCTCCAACCTCGTCACGGAGGTGCGTGTCTACAACTGGTTTGCCAACCGGCGCAAAGAAGAAGCCTTCCGGCACAAGCTGGCCATGGACACGTACAGCGGGCCCCCCCCAGGGCCAGGCCCGGGACCTGCGCTGCCCGCTCACAGCTCCCCTGGCCTGCCTCCACCTGCCCTCTCCCCCAGTAAGGTCCACGGTGTGCGCTATGGACAGCCTGCGACCAGTGAGACTGCAGAAGTACCCTCAAGCAGCGGCGGTCCCTTAGTGACAGTGTCTACACCCCTCCACCAAGTGTCCCCCACGGGCCTGGAGCCCAGCCACAGCCTGCTGAGTACAGAAGCCAAGCTGGTCTCAGCAGCTGGGGGCCCCCTCCCCCCTGTCAGCACCCTGACAGCACTGCACAGCTTGGAGCAGACATCCCCAGGCCTCAACCAGCAGCCCCAGAACCTCATCATGGCCTCACTTCCTGGGGTCATGACCATCGGGCCTGGTGAGCCTGCCTCCCTGGGTCCTACGTTCACCAACACAGGTGCCTCCACCCTGGTCATCGGCCTGGCCTCCACGCAGGCACAGAGTGTGCCGGTCATCAACAGCATGGGCAGCAGCCTGACCACCCTGCAGCCCGTCCAGTTCTCCCAGCCGCTGCACCCCTCCTACCAGCAGCCGCTCATGCCACCTGTGCAGAGCCATGTGACCCAGAGCCCCTTCATGGCCACCATGGCTCAGCTGCAGAGCCCCCACGCCCTCTACAGCCACAAGCCCGAGGTGGCCCAGTACACCCACACGGGCCTGCTCCCGCAGACTATGCTCATCACCGACACCACCAACCTGAGCGCCCTGGCCAGCCTCACGCCCACCAAGCAGGTCTTCACCTCAGACACTGAGGCCTCCAGTGAGTCCGGGCTTCACACGCCGGCATCTCAGGCCACCACCCTCCACGTCCCCAGCCAGGACCCTGCCAGCATCCAGCACCTGCAGCCGGCCCACCGGCTCAGCGCCAGCCCCACAGTGTCCTCCAGCAGCCTGGTGCTGTACCAGAGCTCAGACTCCAGCAATGGCCAGAGCCACCTGCTGCCATCCAACCACAGCGTCATCGAGACCTTCATCTCCACCCAGATGGCCTCTTCCTCCCAGTAACCACGGCACCTGGGCCCTGGGGCCTGTACTGCCTGCTTGGGGGGTGATGAGGGCAGCAGCCAGCCCTGCCTGGAGGACCTGAGCCTGCCGAGCAACCGTGGCCCTTCCTGGACAGCTGTGCCTCGCTCCCCACTCTGCTCTGATGCATCAGAAAGGGAGGGCTCTGAGGCGCCCCAACCCGTGGAGGCTGCTCGGGGTGCACAGGAGGGGGTCGTGGAGAGCTAGGAGCAAAGCCTGTTCATGGCAGATGTAGGAGGGACTGTCGCTGCTTCGTGGGATACAGTCTTCTTACTTGGAACTGAAGGGGGCGGCCTATGACTTGGGCACCCCCAGCCTGGGCCTATGGAGAGCCCTGGGACCGCTACACCACTCTGGCAGCCACACTTCTCAGGACACAGGCCTGTGTAGCTGTGACCTGCTGAGCTCTGAGAGGCCCTGGATCAGCGTGGCCTTGTTCTGTCACCAATGTACCCACCGGGCCACTCCTTCCTGCCCCAACTCCTTCCAGCTAGTGACCCACATGCCATTTGTACTGACCCCATCACCTACTCACACAGGCATTTCCTGGGTGGCTACTCTGTGCCAGAGCCTGGGGCTCTAACGCCTGAGCCCAGGGAGGCCGAAGCTAACAGGGAAGGCAGGCAGGGCTCTCCTGGCTTCCCATCCCCAGCGATTCCCTCTCCCAGGCCCCATGACCTCCAGCTTTCCTGTATTTGTTCCCAAGAGCATCATGCCTCTGAGGCCAGCCTGGCCTCCTGCCTCTACTGGGAAGGCTACTTCGGGGCTGGGAAGTCGTCCTTACTCCTGTGGGAGCCTCGCAACCCGTGCCAAGTCCAGGTCCTGGTGGGGCAGCTCCTCTGTCTCGAGCGCCCTGCAGACCCTGCCCTTGTTTGGGGCAGGAGTAGCTGAGCTCACAAGGCAGCAAGGCCCGAGCAGCTGAGCAGGGCCGGGGAACTGGCCAAGCTGAGGTGCCCAGGAGAAGAAAGAGGTGACCCCAGGGCACAGGAGCTACCTGTGTGGACAGGACTAACACTCAGAAGCCTGGGGGCCTGGCTGGCTGAGGGCAGTTCGCAGCCACCCTGAGGAGTCTGAGGTCCTGAGCACTGCCAGGAGGGACAAAGGAGCCTGTGAACCCAGGACAAGCATGGTCCCACATCCCTGGGCCTGCTGCTGAGAACCTGGCCTTCAGTGTACCGCGTCTACCCTGGGATTCAGGAAAAGGCCTGGGGTGACCCGGCACCCCCTGCAGCTTGTAGCCAGCCGGGGCGAGTGGCACGTTTATTTAACTTTTAGTAAAGTCAAGGAGAAATGCGGTGGAAA\n"
     ]
    }
   ],
   "source": [
    "record2 = SeqIO.read(\"hnf1a.gb\", \"genbank\")\n",
    "print(record2.seq)"
   ]
  },
  {
   "cell_type": "markdown",
   "metadata": {},
   "source": [
    "Tamanho da respetiva sequência de DNA."
   ]
  },
  {
   "cell_type": "code",
   "execution_count": 3,
   "metadata": {},
   "outputs": [
    {
     "name": "stdout",
     "output_type": "stream",
     "text": [
      "Tamanho da sequência: 3442\n"
     ]
    }
   ],
   "source": [
    "print(\"Tamanho da sequência:\", len(record2.seq))"
   ]
  },
  {
   "cell_type": "markdown",
   "metadata": {},
   "source": [
    "O ID, a descrição e o nome deste registo."
   ]
  },
  {
   "cell_type": "code",
   "execution_count": 4,
   "metadata": {},
   "outputs": [
    {
     "name": "stdout",
     "output_type": "stream",
     "text": [
      "ID: NM_000545.8\n"
     ]
    }
   ],
   "source": [
    "print(\"ID:\",record2.id)"
   ]
  },
  {
   "cell_type": "code",
   "execution_count": 5,
   "metadata": {},
   "outputs": [
    {
     "name": "stdout",
     "output_type": "stream",
     "text": [
      "Descrição: Homo sapiens HNF1 homeobox A (HNF1A), transcript variant 2, mRNA\n"
     ]
    }
   ],
   "source": [
    "print(\"Descrição:\",record2.description)"
   ]
  },
  {
   "cell_type": "code",
   "execution_count": 6,
   "metadata": {},
   "outputs": [
    {
     "name": "stdout",
     "output_type": "stream",
     "text": [
      "Nome: NM_000545\n"
     ]
    }
   ],
   "source": [
    "print(\"Nome:\",record2.name)"
   ]
  },
  {
   "cell_type": "markdown",
   "metadata": {},
   "source": [
    "A lista de anotações globais (annotations) para este registo."
   ]
  },
  {
   "cell_type": "code",
   "execution_count": 7,
   "metadata": {},
   "outputs": [
    {
     "name": "stdout",
     "output_type": "stream",
     "text": [
      "Lista de anotações: {'molecule_type': 'mRNA', 'topology': 'linear', 'data_file_division': 'PRI', 'date': '08-JAN-2023', 'accessions': ['NM_000545'], 'sequence_version': 8, 'keywords': ['RefSeq', 'MANE Select'], 'source': 'Homo sapiens (human)', 'organism': 'Homo sapiens', 'taxonomy': ['Eukaryota', 'Metazoa', 'Chordata', 'Craniata', 'Vertebrata', 'Euteleostomi', 'Mammalia', 'Eutheria', 'Euarchontoglires', 'Primates', 'Haplorrhini', 'Catarrhini', 'Hominidae', 'Homo'], 'references': [Reference(title='The contribution of functional HNF1A variants and polygenic susceptibility to risk of type 2 diabetes in ancestrally diverse populations', ...), Reference(title='Integrated Transcriptomic and Proteomic Analysis Identifies Plasma Biomarkers of Hepatocellular Failure in Alcohol-Associated Hepatitis', ...), Reference(title='The HASTER lncRNA promoter is a cis-acting transcriptional stabilizer of HNF1A', ...), Reference(title='Decreased TCF1 and BCL11B expression predicts poor prognosis for patients with chronic lymphocytic leukemia', ...), Reference(title='The molecular functions of hepatocyte nuclear factors - In and beyond the liver', ...), Reference(title='Maturity-onset diabetes of the young (MODY): an update', ...), Reference(title='Maturity-Onset Diabetes of the Young Overview', ...), Reference(title='Chromosomal localization in man and rat of the genes encoding the liver-enriched transcription factors C/EBP, DBP, and HNF1/LFB-1 (CEBP, DBP, and transcription factor 1, TCF1, respectively) and of the hepatocyte growth factor/scatter factor gene (HGF)', ...), Reference(title='Two members of an HNF1 homeoprotein family are expressed in human liver', ...), Reference(title='Cloning of human hepatic nuclear factor 1 (HNF1) and chromosomal localization of its gene in man and mouse', ...)], 'comment': \"REVIEWED REFSEQ: This record has been curated by NCBI staff. The\\nreference sequence was derived from AC079602.15.\\nOn Nov 30, 2019 this sequence version replaced NM_000545.7.\\nSummary: The protein encoded by this gene is a transcription factor\\nrequired for the expression of several liver-specific genes. The\\nencoded protein functions as a homodimer and binds to the inverted\\npalindrome 5'-GTTAATNATTAAC-3'. Defects in this gene are a cause of\\nmaturity onset diabetes of the young type 3 (MODY3) and also can\\nresult in the appearance of hepatic adenomas. Alternative splicing\\nresults in multiple transcript variants encoding different\\nisoforms. [provided by RefSeq, Apr 2015].\\nSequence Note: This RefSeq record was created from transcript and\\ngenomic sequence data to make the sequence consistent with the\\nreference genome assembly. The genomic coordinates used for the\\ntranscript record were based on transcript alignments.\\nPublication Note:  This RefSeq record includes a subset of the\\npublications that are available for this gene. Please see the Gene\\nrecord to access additional publications.\\nCOMPLETENESS: complete on the 3' end.\", 'structured_comment': OrderedDict([('Evidence-Data', OrderedDict([('Transcript exon combination', 'SRR14038193.531452.1, M57732.1 [ECO:0000332]'), ('RNAseq introns', 'single sample supports all introns SAMEA1968540, SAMEA1970526 [ECO:0000348]')])), ('RefSeq-Attributes', OrderedDict([('MANE Ensembl match', 'ENST00000257555.11/ ENSP00000257555.5'), ('RefSeq Select criteria', 'based on manual assertion, conservation, expression')]))])}\n"
     ]
    }
   ],
   "source": [
    "print(\"Lista de anotações:\",record2.annotations)"
   ]
  },
  {
   "cell_type": "markdown",
   "metadata": {},
   "source": [
    "O organismo e a sua classificação taxonómica completa."
   ]
  },
  {
   "cell_type": "code",
   "execution_count": 8,
   "metadata": {},
   "outputs": [
    {
     "name": "stdout",
     "output_type": "stream",
     "text": [
      "Organismo: Homo sapiens (human)\n"
     ]
    }
   ],
   "source": [
    "print(\"Organismo:\", record2.annotations[\"source\"])"
   ]
  },
  {
   "cell_type": "code",
   "execution_count": 9,
   "metadata": {},
   "outputs": [
    {
     "name": "stdout",
     "output_type": "stream",
     "text": [
      "Classificação Taxonómica: ['Eukaryota', 'Metazoa', 'Chordata', 'Craniata', 'Vertebrata', 'Euteleostomi', 'Mammalia', 'Eutheria', 'Euarchontoglires', 'Primates', 'Haplorrhini', 'Catarrhini', 'Hominidae', 'Homo']\n"
     ]
    }
   ],
   "source": [
    "print(\"Classificação Taxonómica:\", record2.annotations[\"taxonomy\"])"
   ]
  },
  {
   "cell_type": "markdown",
   "metadata": {},
   "source": [
    "Features do registo, nomeadamente o seu tipo e localização."
   ]
  },
  {
   "cell_type": "code",
   "execution_count": 10,
   "metadata": {},
   "outputs": [
    {
     "name": "stdout",
     "output_type": "stream",
     "text": [
      "Feature: type: source\n",
      "location: [0:3442](+)\n",
      "qualifiers:\n",
      "    Key: chromosome, Value: ['12']\n",
      "    Key: db_xref, Value: ['taxon:9606']\n",
      "    Key: map, Value: ['12q24.31']\n",
      "    Key: mol_type, Value: ['mRNA']\n",
      "    Key: organism, Value: ['Homo sapiens']\n",
      "\n",
      "Feature: type: gene\n",
      "location: [0:3442](+)\n",
      "qualifiers:\n",
      "    Key: db_xref, Value: ['GeneID:6927', 'HGNC:HGNC:11621', 'MIM:142410']\n",
      "    Key: gene, Value: ['HNF1A']\n",
      "    Key: gene_synonym, Value: ['HNF-1-alpha; HNF-1A; HNF1; HNF1alpha; HNF4A; IDDM20; LFB1; MODY3; TCF-1; TCF1']\n",
      "    Key: note, Value: ['HNF1 homeobox A']\n",
      "\n",
      "Feature: type: exon\n",
      "location: [0:552](+)\n",
      "qualifiers:\n",
      "    Key: gene, Value: ['HNF1A']\n",
      "    Key: gene_synonym, Value: ['HNF-1-alpha; HNF-1A; HNF1; HNF1alpha; HNF4A; IDDM20; LFB1; MODY3; TCF-1; TCF1']\n",
      "    Key: inference, Value: ['alignment:Splign:2.1.0']\n",
      "\n",
      "Feature: type: misc_feature\n",
      "location: [10:13](+)\n",
      "qualifiers:\n",
      "    Key: gene, Value: ['HNF1A']\n",
      "    Key: gene_synonym, Value: ['HNF-1-alpha; HNF-1A; HNF1; HNF1alpha; HNF4A; IDDM20; LFB1; MODY3; TCF-1; TCF1']\n",
      "    Key: note, Value: ['upstream in-frame stop codon']\n",
      "\n",
      "Feature: type: CDS\n",
      "location: [226:2122](+)\n",
      "qualifiers:\n",
      "    Key: codon_start, Value: ['1']\n",
      "    Key: db_xref, Value: ['CCDS:CCDS9209.1', 'GeneID:6927', 'HGNC:HGNC:11621', 'MIM:142410']\n",
      "    Key: gene, Value: ['HNF1A']\n",
      "    Key: gene_synonym, Value: ['HNF-1-alpha; HNF-1A; HNF1; HNF1alpha; HNF4A; IDDM20; LFB1; MODY3; TCF-1; TCF1']\n",
      "    Key: note, Value: ['isoform 2 is encoded by transcript variant 2; hepatic nuclear factor 1; albumin proximal factor; hepatocyte nuclear factor 1-alpha; transcription factor 1, hepatic; interferon production regulator factor; liver-specific transcription factor LF-B1']\n",
      "    Key: product, Value: ['hepatocyte nuclear factor 1-alpha isoform 2']\n",
      "    Key: protein_id, Value: ['NP_000536.6']\n",
      "    Key: translation, Value: ['MVSKLSQLQTELLAALLESGLSKEALIQALGEPGPYLLAGEGPLDKGESCGGGRGELAELPNGLGETRGSEDETDDDGEDFTPPILKELENLSPEEAAHQKAVVETLLQEDPWRVAKMVKSYLQQHNIPQREVVDTTGLNQSHLSQHLNKGTPMKTQKRAALYTWYVRKQREVAQQFTHAGQGGLIEEPTGDELPTKKGRRNRFKWGPASQQILFQAYERQKNPSKEERETLVEECNRAECIQRGVSPSQAQGLGSNLVTEVRVYNWFANRRKEEAFRHKLAMDTYSGPPPGPGPGPALPAHSSPGLPPPALSPSKVHGVRYGQPATSETAEVPSSSGGPLVTVSTPLHQVSPTGLEPSHSLLSTEAKLVSAAGGPLPPVSTLTALHSLEQTSPGLNQQPQNLIMASLPGVMTIGPGEPASLGPTFTNTGASTLVIGLASTQAQSVPVINSMGSSLTTLQPVQFSQPLHPSYQQPLMPPVQSHVTQSPFMATMAQLQSPHALYSHKPEVAQYTHTGLLPQTMLITDTTNLSALASLTPTKQVFTSDTEASSESGLHTPASQATTLHVPSQDPASIQHLQPAHRLSASPTVSSSSLVLYQSSDSSNGQSHLLPSNHSVIETFISTQMASSSQ']\n",
      "\n",
      "Feature: type: misc_feature\n",
      "location: [226:319](+)\n",
      "qualifiers:\n",
      "    Key: gene, Value: ['HNF1A']\n",
      "    Key: gene_synonym, Value: ['HNF-1-alpha; HNF-1A; HNF1; HNF1alpha; HNF4A; IDDM20; LFB1; MODY3; TCF-1; TCF1']\n",
      "    Key: note, Value: ['propagated from UniProtKB/Swiss-Prot (P20823.2); Region: Dimerization']\n",
      "\n",
      "Feature: type: misc_feature\n",
      "location: [343:469](+)\n",
      "qualifiers:\n",
      "    Key: gene, Value: ['HNF1A']\n",
      "    Key: gene_synonym, Value: ['HNF-1-alpha; HNF-1A; HNF1; HNF1alpha; HNF4A; IDDM20; LFB1; MODY3; TCF-1; TCF1']\n",
      "    Key: note, Value: ['propagated from UniProtKB/Swiss-Prot (P20823.2); Region: Disordered. /evidence=ECO:0000256|SAM:MobiDB-lite']\n",
      "\n",
      "Feature: type: misc_feature\n",
      "location: [433:436](+)\n",
      "qualifiers:\n",
      "    Key: gene, Value: ['HNF1A']\n",
      "    Key: gene_synonym, Value: ['HNF-1-alpha; HNF-1A; HNF1; HNF1alpha; HNF4A; IDDM20; LFB1; MODY3; TCF-1; TCF1']\n",
      "    Key: note, Value: ['Phosphoserine. /evidence=ECO:0000250|UniProtKB:P22361; propagated from UniProtKB/Swiss-Prot (P20823.2); phosphorylation site']\n",
      "\n",
      "Feature: type: misc_feature\n",
      "location: [445:448](+)\n",
      "qualifiers:\n",
      "    Key: gene, Value: ['HNF1A']\n",
      "    Key: gene_synonym, Value: ['HNF-1-alpha; HNF-1A; HNF1; HNF1alpha; HNF4A; IDDM20; LFB1; MODY3; TCF-1; TCF1']\n",
      "    Key: note, Value: ['Phosphothreonine. /evidence=ECO:0000250|UniProtKB:P22361; propagated from UniProtKB/Swiss-Prot (P20823.2); phosphorylation site']\n",
      "\n",
      "Feature: type: misc_feature\n",
      "location: [502:505](+)\n",
      "qualifiers:\n",
      "    Key: gene, Value: ['HNF1A']\n",
      "    Key: gene_synonym, Value: ['HNF-1-alpha; HNF-1A; HNF1; HNF1alpha; HNF4A; IDDM20; LFB1; MODY3; TCF-1; TCF1']\n",
      "    Key: note, Value: ['Phosphoserine. /evidence=ECO:0007744|PubMed:24275569; propagated from UniProtKB/Swiss-Prot (P20823.2); phosphorylation site']\n",
      "\n",
      "Feature: type: misc_feature\n",
      "location: [613:622](+)\n",
      "qualifiers:\n",
      "    Key: gene, Value: ['HNF1A']\n",
      "    Key: gene_synonym, Value: ['HNF-1-alpha; HNF-1A; HNF1; HNF1alpha; HNF4A; IDDM20; LFB1; MODY3; TCF-1; TCF1']\n",
      "    Key: note, Value: ['propagated from UniProtKB/Swiss-Prot (P20823.2); Region: Interaction with DNA']\n",
      "\n",
      "Feature: type: misc_feature\n",
      "location: [652:673](+)\n",
      "qualifiers:\n",
      "    Key: gene, Value: ['HNF1A']\n",
      "    Key: gene_synonym, Value: ['HNF-1-alpha; HNF-1A; HNF1; HNF1alpha; HNF4A; IDDM20; LFB1; MODY3; TCF-1; TCF1']\n",
      "    Key: note, Value: ['propagated from UniProtKB/Swiss-Prot (P20823.2); Region: Interaction with DNA']\n",
      "\n",
      "Feature: type: misc_feature\n",
      "location: [688:700](+)\n",
      "qualifiers:\n",
      "    Key: gene, Value: ['HNF1A']\n",
      "    Key: gene_synonym, Value: ['HNF-1-alpha; HNF-1A; HNF1; HNF1alpha; HNF4A; IDDM20; LFB1; MODY3; TCF-1; TCF1']\n",
      "    Key: note, Value: ['propagated from UniProtKB/Swiss-Prot (P20823.2); Region: Interaction with DNA']\n",
      "\n",
      "Feature: type: misc_feature\n",
      "location: [772:841](+)\n",
      "qualifiers:\n",
      "    Key: gene, Value: ['HNF1A']\n",
      "    Key: gene_synonym, Value: ['HNF-1-alpha; HNF-1A; HNF1; HNF1alpha; HNF4A; IDDM20; LFB1; MODY3; TCF-1; TCF1']\n",
      "    Key: note, Value: ['propagated from UniProtKB/Swiss-Prot (P20823.2); Region: Disordered. /evidence=ECO:0000256|SAM:MobiDB-lite']\n",
      "\n",
      "Feature: type: misc_feature\n",
      "location: [814:841](+)\n",
      "qualifiers:\n",
      "    Key: gene, Value: ['HNF1A']\n",
      "    Key: gene_synonym, Value: ['HNF-1-alpha; HNF-1A; HNF1; HNF1alpha; HNF4A; IDDM20; LFB1; MODY3; TCF-1; TCF1']\n",
      "    Key: note, Value: ['propagated from UniProtKB/Swiss-Prot (P20823.2); Region: Nuclear localization signal. /evidence=ECO:0000305']\n",
      "\n",
      "Feature: type: misc_feature\n",
      "location: [832:844](+)\n",
      "qualifiers:\n",
      "    Key: gene, Value: ['HNF1A']\n",
      "    Key: gene_synonym, Value: ['HNF-1-alpha; HNF-1A; HNF1; HNF1alpha; HNF4A; IDDM20; LFB1; MODY3; TCF-1; TCF1']\n",
      "    Key: note, Value: ['propagated from UniProtKB/Swiss-Prot (P20823.2); Region: Interaction with DNA']\n",
      "\n",
      "Feature: type: misc_feature\n",
      "location: [964:967](+)\n",
      "qualifiers:\n",
      "    Key: gene, Value: ['HNF1A']\n",
      "    Key: gene_synonym, Value: ['HNF-1-alpha; HNF-1A; HNF1; HNF1alpha; HNF4A; IDDM20; LFB1; MODY3; TCF-1; TCF1']\n",
      "    Key: note, Value: ['Phosphoserine. /evidence=ECO:0007744|PubMed:24275569; propagated from UniProtKB/Swiss-Prot (P20823.2); phosphorylation site']\n",
      "\n",
      "Feature: type: misc_feature\n",
      "location: [1012:1021](+)\n",
      "qualifiers:\n",
      "    Key: gene, Value: ['HNF1A']\n",
      "    Key: gene_synonym, Value: ['HNF-1-alpha; HNF-1A; HNF1; HNF1alpha; HNF4A; IDDM20; LFB1; MODY3; TCF-1; TCF1']\n",
      "    Key: note, Value: ['propagated from UniProtKB/Swiss-Prot (P20823.2); Region: Interaction with DNA']\n",
      "\n",
      "Feature: type: misc_feature\n",
      "location: [1033:1045](+)\n",
      "qualifiers:\n",
      "    Key: gene, Value: ['HNF1A']\n",
      "    Key: gene_synonym, Value: ['HNF-1-alpha; HNF-1A; HNF1; HNF1alpha; HNF4A; IDDM20; LFB1; MODY3; TCF-1; TCF1']\n",
      "    Key: note, Value: ['propagated from UniProtKB/Swiss-Prot (P20823.2); Region: Interaction with DNA']\n",
      "\n",
      "Feature: type: misc_feature\n",
      "location: [1072:1300](+)\n",
      "qualifiers:\n",
      "    Key: gene, Value: ['HNF1A']\n",
      "    Key: gene_synonym, Value: ['HNF-1-alpha; HNF-1A; HNF1; HNF1alpha; HNF4A; IDDM20; LFB1; MODY3; TCF-1; TCF1']\n",
      "    Key: note, Value: ['propagated from UniProtKB/Swiss-Prot (P20823.2); Region: Disordered. /evidence=ECO:0000256|SAM:MobiDB-lite']\n",
      "\n",
      "Feature: type: misc_feature\n",
      "location: [1162:1165](+)\n",
      "qualifiers:\n",
      "    Key: gene, Value: ['HNF1A']\n",
      "    Key: gene_synonym, Value: ['HNF-1-alpha; HNF-1A; HNF1; HNF1alpha; HNF4A; IDDM20; LFB1; MODY3; TCF-1; TCF1']\n",
      "    Key: note, Value: ['Phosphoserine. /evidence=ECO:0000250|UniProtKB:P22361; propagated from UniProtKB/Swiss-Prot (P20823.2); phosphorylation site']\n",
      "\n",
      "Feature: type: misc_feature\n",
      "location: [1858:1945](+)\n",
      "qualifiers:\n",
      "    Key: gene, Value: ['HNF1A']\n",
      "    Key: gene_synonym, Value: ['HNF-1-alpha; HNF-1A; HNF1; HNF1alpha; HNF4A; IDDM20; LFB1; MODY3; TCF-1; TCF1']\n",
      "    Key: note, Value: ['propagated from UniProtKB/Swiss-Prot (P20823.2); Region: Disordered. /evidence=ECO:0000256|SAM:MobiDB-lite']\n",
      "\n",
      "Feature: type: exon\n",
      "location: [552:752](+)\n",
      "qualifiers:\n",
      "    Key: gene, Value: ['HNF1A']\n",
      "    Key: gene_synonym, Value: ['HNF-1-alpha; HNF-1A; HNF1; HNF1alpha; HNF4A; IDDM20; LFB1; MODY3; TCF-1; TCF1']\n",
      "    Key: inference, Value: ['alignment:Splign:2.1.0']\n",
      "\n",
      "Feature: type: exon\n",
      "location: [752:939](+)\n",
      "qualifiers:\n",
      "    Key: gene, Value: ['HNF1A']\n",
      "    Key: gene_synonym, Value: ['HNF-1-alpha; HNF-1A; HNF1; HNF1alpha; HNF4A; IDDM20; LFB1; MODY3; TCF-1; TCF1']\n",
      "    Key: inference, Value: ['alignment:Splign:2.1.0']\n",
      "\n",
      "Feature: type: exon\n",
      "location: [939:1181](+)\n",
      "qualifiers:\n",
      "    Key: gene, Value: ['HNF1A']\n",
      "    Key: gene_synonym, Value: ['HNF-1-alpha; HNF-1A; HNF1; HNF1alpha; HNF4A; IDDM20; LFB1; MODY3; TCF-1; TCF1']\n",
      "    Key: inference, Value: ['alignment:Splign:2.1.0']\n",
      "\n",
      "Feature: type: exon\n",
      "location: [1181:1333](+)\n",
      "qualifiers:\n",
      "    Key: gene, Value: ['HNF1A']\n",
      "    Key: gene_synonym, Value: ['HNF-1-alpha; HNF-1A; HNF1; HNF1alpha; HNF4A; IDDM20; LFB1; MODY3; TCF-1; TCF1']\n",
      "    Key: inference, Value: ['alignment:Splign:2.1.0']\n",
      "\n",
      "Feature: type: exon\n",
      "location: [1333:1535](+)\n",
      "qualifiers:\n",
      "    Key: gene, Value: ['HNF1A']\n",
      "    Key: gene_synonym, Value: ['HNF-1-alpha; HNF-1A; HNF1; HNF1alpha; HNF4A; IDDM20; LFB1; MODY3; TCF-1; TCF1']\n",
      "    Key: inference, Value: ['alignment:Splign:2.1.0']\n",
      "\n",
      "Feature: type: exon\n",
      "location: [1535:1727](+)\n",
      "qualifiers:\n",
      "    Key: gene, Value: ['HNF1A']\n",
      "    Key: gene_synonym, Value: ['HNF-1-alpha; HNF-1A; HNF1; HNF1alpha; HNF4A; IDDM20; LFB1; MODY3; TCF-1; TCF1']\n",
      "    Key: inference, Value: ['alignment:Splign:2.1.0']\n",
      "\n",
      "Feature: type: exon\n",
      "location: [1727:1849](+)\n",
      "qualifiers:\n",
      "    Key: gene, Value: ['HNF1A']\n",
      "    Key: gene_synonym, Value: ['HNF-1-alpha; HNF-1A; HNF1; HNF1alpha; HNF4A; IDDM20; LFB1; MODY3; TCF-1; TCF1']\n",
      "    Key: inference, Value: ['alignment:Splign:2.1.0']\n",
      "\n",
      "Feature: type: exon\n",
      "location: [1849:1994](+)\n",
      "qualifiers:\n",
      "    Key: gene, Value: ['HNF1A']\n",
      "    Key: gene_synonym, Value: ['HNF-1-alpha; HNF-1A; HNF1; HNF1alpha; HNF4A; IDDM20; LFB1; MODY3; TCF-1; TCF1']\n",
      "    Key: inference, Value: ['alignment:Splign:2.1.0']\n",
      "\n",
      "Feature: type: exon\n",
      "location: [1994:3442](+)\n",
      "qualifiers:\n",
      "    Key: gene, Value: ['HNF1A']\n",
      "    Key: gene_synonym, Value: ['HNF-1-alpha; HNF-1A; HNF1; HNF1alpha; HNF4A; IDDM20; LFB1; MODY3; TCF-1; TCF1']\n",
      "    Key: inference, Value: ['alignment:Splign:2.1.0']\n",
      "\n",
      "Feature: type: regulatory\n",
      "location: [3413:3419](+)\n",
      "qualifiers:\n",
      "    Key: gene, Value: ['HNF1A']\n",
      "    Key: gene_synonym, Value: ['HNF-1-alpha; HNF-1A; HNF1; HNF1alpha; HNF4A; IDDM20; LFB1; MODY3; TCF-1; TCF1']\n",
      "    Key: note, Value: ['hexamer: AGTAAA']\n",
      "    Key: regulatory_class, Value: ['polyA_signal_sequence']\n",
      "\n",
      "Feature: type: polyA_site\n",
      "location: [3441:3442](+)\n",
      "qualifiers:\n",
      "    Key: gene, Value: ['HNF1A']\n",
      "    Key: gene_synonym, Value: ['HNF-1-alpha; HNF-1A; HNF1; HNF1alpha; HNF4A; IDDM20; LFB1; MODY3; TCF-1; TCF1']\n",
      "    Key: note, Value: ['major polyA site']\n",
      "\n"
     ]
    }
   ],
   "source": [
    "for features in record2.features:\n",
    "    print (\"Feature:\", features)"
   ]
  },
  {
   "cell_type": "code",
   "execution_count": 11,
   "metadata": {},
   "outputs": [
    {
     "name": "stdout",
     "output_type": "stream",
     "text": [
      "source\n",
      "[0:3442](+)\n",
      "gene\n",
      "[0:3442](+)\n",
      "exon\n",
      "[0:552](+)\n",
      "misc_feature\n",
      "[10:13](+)\n",
      "CDS\n",
      "[226:2122](+)\n",
      "misc_feature\n",
      "[226:319](+)\n",
      "misc_feature\n",
      "[343:469](+)\n",
      "misc_feature\n",
      "[433:436](+)\n",
      "misc_feature\n",
      "[445:448](+)\n",
      "misc_feature\n",
      "[502:505](+)\n",
      "misc_feature\n",
      "[613:622](+)\n",
      "misc_feature\n",
      "[652:673](+)\n",
      "misc_feature\n",
      "[688:700](+)\n",
      "misc_feature\n",
      "[772:841](+)\n",
      "misc_feature\n",
      "[814:841](+)\n",
      "misc_feature\n",
      "[832:844](+)\n",
      "misc_feature\n",
      "[964:967](+)\n",
      "misc_feature\n",
      "[1012:1021](+)\n",
      "misc_feature\n",
      "[1033:1045](+)\n",
      "misc_feature\n",
      "[1072:1300](+)\n",
      "misc_feature\n",
      "[1162:1165](+)\n",
      "misc_feature\n",
      "[1858:1945](+)\n",
      "exon\n",
      "[552:752](+)\n",
      "exon\n",
      "[752:939](+)\n",
      "exon\n",
      "[939:1181](+)\n",
      "exon\n",
      "[1181:1333](+)\n",
      "exon\n",
      "[1333:1535](+)\n",
      "exon\n",
      "[1535:1727](+)\n",
      "exon\n",
      "[1727:1849](+)\n",
      "exon\n",
      "[1849:1994](+)\n",
      "exon\n",
      "[1994:3442](+)\n",
      "regulatory\n",
      "[3413:3419](+)\n",
      "polyA_site\n",
      "[3441:3442](+)\n"
     ]
    }
   ],
   "source": [
    "for f in range(len(record2.features)):\n",
    "    print(record2.features[f].type)\n",
    "    print(record2.features[f].location)\n"
   ]
  },
  {
   "cell_type": "markdown",
   "metadata": {},
   "source": [
    "Sequências codificantes associadas a este registo  e respetivo índice."
   ]
  },
  {
   "cell_type": "code",
   "execution_count": 12,
   "metadata": {},
   "outputs": [
    {
     "name": "stdout",
     "output_type": "stream",
     "text": [
      "O índice das sequência codificante é: [4]\n",
      "type: CDS\n",
      "location: [226:2122](+)\n",
      "qualifiers:\n",
      "    Key: codon_start, Value: ['1']\n",
      "    Key: db_xref, Value: ['CCDS:CCDS9209.1', 'GeneID:6927', 'HGNC:HGNC:11621', 'MIM:142410']\n",
      "    Key: gene, Value: ['HNF1A']\n",
      "    Key: gene_synonym, Value: ['HNF-1-alpha; HNF-1A; HNF1; HNF1alpha; HNF4A; IDDM20; LFB1; MODY3; TCF-1; TCF1']\n",
      "    Key: note, Value: ['isoform 2 is encoded by transcript variant 2; hepatic nuclear factor 1; albumin proximal factor; hepatocyte nuclear factor 1-alpha; transcription factor 1, hepatic; interferon production regulator factor; liver-specific transcription factor LF-B1']\n",
      "    Key: product, Value: ['hepatocyte nuclear factor 1-alpha isoform 2']\n",
      "    Key: protein_id, Value: ['NP_000536.6']\n",
      "    Key: translation, Value: ['MVSKLSQLQTELLAALLESGLSKEALIQALGEPGPYLLAGEGPLDKGESCGGGRGELAELPNGLGETRGSEDETDDDGEDFTPPILKELENLSPEEAAHQKAVVETLLQEDPWRVAKMVKSYLQQHNIPQREVVDTTGLNQSHLSQHLNKGTPMKTQKRAALYTWYVRKQREVAQQFTHAGQGGLIEEPTGDELPTKKGRRNRFKWGPASQQILFQAYERQKNPSKEERETLVEECNRAECIQRGVSPSQAQGLGSNLVTEVRVYNWFANRRKEEAFRHKLAMDTYSGPPPGPGPGPALPAHSSPGLPPPALSPSKVHGVRYGQPATSETAEVPSSSGGPLVTVSTPLHQVSPTGLEPSHSLLSTEAKLVSAAGGPLPPVSTLTALHSLEQTSPGLNQQPQNLIMASLPGVMTIGPGEPASLGPTFTNTGASTLVIGLASTQAQSVPVINSMGSSLTTLQPVQFSQPLHPSYQQPLMPPVQSHVTQSPFMATMAQLQSPHALYSHKPEVAQYTHTGLLPQTMLITDTTNLSALASLTPTKQVFTSDTEASSESGLHTPASQATTLHVPSQDPASIQHLQPAHRLSASPTVSSSSLVLYQSSDSSNGQSHLLPSNHSVIETFISTQMASSSQ']\n",
      "\n"
     ]
    }
   ],
   "source": [
    "indices=[]\n",
    "for f in range(len(record2.features)):\n",
    "   if record2.features[f].type == \"CDS\":\n",
    "    indices.append(f)\n",
    "print(\"O índice das sequência codificante é:\",indices)\n",
    "for a in indices:\n",
    "    print (record2.features[a])"
   ]
  },
  {
   "cell_type": "markdown",
   "metadata": {},
   "source": [
    "A proteína codificada e qual o seu significado biológico."
   ]
  },
  {
   "cell_type": "code",
   "execution_count": 16,
   "metadata": {},
   "outputs": [
    {
     "name": "stdout",
     "output_type": "stream",
     "text": [
      "Proteínas codificadas e os seus significados biológicos:\n",
      "['NP_000536.6'] ['hepatocyte nuclear factor 1-alpha isoform 2']\n"
     ]
    }
   ],
   "source": [
    "qualifiersid=[]\n",
    "qualifiersim=[]\n",
    "for a in indices:\n",
    "    qualifiersid.append(record2.features[a].qualifiers[\"protein_id\"]) \n",
    "    qualifiersim.append(record2.features[a].qualifiers[\"product\"]) \n",
    "print (\"Proteínas codificadas e os seus significados biológicos:\")\n",
    "for c in range(len(indices)):\n",
    "       print ( qualifiersid[c], qualifiersim[c])\n",
    "              "
   ]
  },
  {
   "cell_type": "markdown",
   "metadata": {},
   "source": [
    "O número de genes anotados no registo (feature tipo “gene”) e quais estão anotados em cada uma das cadeias."
   ]
  },
  {
   "cell_type": "code",
   "execution_count": 17,
   "metadata": {},
   "outputs": [
    {
     "name": "stdout",
     "output_type": "stream",
     "text": [
      "Número de genes: 1\n"
     ]
    }
   ],
   "source": [
    "genes=[]\n",
    "for g in range(len(record2.features)):\n",
    "    if record2.features[g].type == \"gene\":\n",
    "        genes.append(g)\n",
    "print(\"Número de genes:\",len(genes))"
   ]
  },
  {
   "cell_type": "code",
   "execution_count": 18,
   "metadata": {},
   "outputs": [
    {
     "name": "stdout",
     "output_type": "stream",
     "text": [
      "Gene ['HNF1A'] anotado na cadeia 1\n"
     ]
    }
   ],
   "source": [
    "for a in genes:\n",
    "    print (\"Gene\", record2.features[a].qualifiers[\"gene\"],\"anotado na cadeia\", record2.features[a].location.strand)"
   ]
  },
  {
   "cell_type": "code",
   "execution_count": null,
   "metadata": {},
   "outputs": [],
   "source": []
  }
 ],
 "metadata": {
  "kernelspec": {
   "display_name": "Python 3 (ipykernel)",
   "language": "python",
   "name": "python3"
  },
  "language_info": {
   "codemirror_mode": {
    "name": "ipython",
    "version": 3
   },
   "file_extension": ".py",
   "mimetype": "text/x-python",
   "name": "python",
   "nbconvert_exporter": "python",
   "pygments_lexer": "ipython3",
   "version": "3.9.12"
  }
 },
 "nbformat": 4,
 "nbformat_minor": 4
}

{
 "cells": [
  {
   "cell_type": "markdown",
   "metadata": {},
   "source": [
    "## Análise da sequência e das features presentes no NCBI"
   ]
  },
  {
   "cell_type": "markdown",
   "metadata": {},
   "source": [
    "Carregamento do package e dos módulos necessários"
   ]
  },
  {
   "cell_type": "code",
   "execution_count": 1,
   "metadata": {},
   "outputs": [],
   "source": [
    "from Bio import Seq\n",
    "from Bio import SeqIO"
   ]
  },
  {
   "cell_type": "markdown",
   "metadata": {},
   "source": [
    "Abertura e leitura do ficheiro genbank relativamente ao gene HHEX. E respetiva sequência."
   ]
  },
  {
   "cell_type": "code",
   "execution_count": 7,
   "metadata": {},
   "outputs": [
    {
     "name": "stdout",
     "output_type": "stream",
     "text": [
      "AGCTCTGCGAGGGGCCGGAGCGCGGCGGAGCCATGCAGTACCCGCACCCCGGGCCGGCGGCGGGCGCCGTGGGGGTGCCGCTGTACGCGCCCACGCCGCTGCTGCAACCCGCACACCCGACGCCCTTTTACATCGAGGACATCCTGGGCCGCGGGCCCGCCGCGCCCACGCCCGCCCCCACGCTGCCGTCCCCCAACTCCTCCTTCACCAGCCTCGTGTCCCCCTACCGGACCCCGGTGTACGAGCCCACGCCGATCCATCCAGCCTTCTCGCACCACTCCGCCGCCGCGCTGGCCGCTGCCTACGGACCCGGCGGCTTCGGGGGCCCTCTGTACCCCTTCCCGCGGACGGTGAACGACTACACGCACGCCCTGCTCCGCCACGACCCCCTGGGCAAACCTCTACTCTGGAGCCCCTTCTTGCAGAGGCCTCTGCATAAAAGGAAAGGCGGCCAGGTGAGATTCTCCAACGACCAGACCATCGAGCTGGAGAAGAAATTCGAGACGCAGAAATATCTCTCTCCGCCCGAGAGGAAGCGTCTGGCCAAGATGCTGCAGCTCAGCGAGAGACAGGTCAAAACCTGGTTTCAGAATCGACGCGCTAAATGGAGGAGACTAAAACAGGAGAACCCTCAAAGCAATAAAAAAGAAGAACTGGAAAGTTTGGACAGTTCCTGTGATCAGAGGCAAGATTTGCCCAGTGAACAGAATAAAGGTGCTTCTTTGGATAGCTCTCAATGTTCGCCCTCCCCTGCCTCCCAGGAAGACCTTGAATCAGAGATTTCAGAGGATTCTGATCAGGAAGTGGACATTGAGGGCGATAAAAGCTATTTTAATGCTGGATGATGACCACTGGCATTGGCATGTTCAGAAAACTGGATTTAGGAATAATGTTTTGCTACAGAAAATCTTCATAGAAGAACTGGAAGGCTATATAAGAAAGGGAATCAATTCTCTGGTATTCTGGAAACCTAAAAATATTTGGTGCACTGCTCAATTAACAAACCTACATGGAGACCTTAATTTTGACTTAACAAATAGTTTATGTACTGCTCTTAGGTTGTTTTGATAAAGTGACATTATAGTGATTAAATTCTTCCCCCTTTAAAAAAACAGTTAGTGGTTTTCACTATTTATAAAAAATTAATTTTGAACTTTTTGTTAAATTTTTAAGTTATAGCTTTAAAGGTTTTAATAGGACCTTCTTGAACGACTTTTCTGTAATCTGTTTATCTCCCACTTAATGGAAAGGCAAAGGGGTACCCCAAATCCAGAGGTGCCTACATTTCAGGCAGCCTTGGAGTATTTTAAAAGGAAAACATTCTTTACTTTTATATGACATTCTTATACTGCTGTCTCAAATCCAAAAACATTTCAGAGCTCTTGTCTCAGAGATGTGTGTTCTTTTTGTCAGAGATATGGTTGATGAGAATCTTAAATGCTTGTTTTGCACTATCACTTAGTACCTGTTTGACCAAGGTGTTAAGGGGATAGTACCTCCCAATTCAAGCAGAGAAACTGACCTGACTAAAGTTAATCGCAGATGAACTAGAAGTCACAGGTTAATTAAATGTAAGTAGATTGTAGATACTGTTTTATATCAAACAATGTTTATAATGTGTATATAGAATTGTTCACTGTAAAAAAAATGGCCAAAATGTGTTTTTTTTTTAATAAGTAACTTGACTATAAAATAAAGCCGTCCGTGGGACGACTGACCTCGTT\n"
     ]
    }
   ],
   "source": [
    "record2 = SeqIO.read(\"hhex.gb\", \"genbank\")\n",
    "print(record2.seq)"
   ]
  },
  {
   "cell_type": "markdown",
   "metadata": {},
   "source": [
    "Tamanho da respetiva sequência de DNA."
   ]
  },
  {
   "cell_type": "code",
   "execution_count": 6,
   "metadata": {},
   "outputs": [
    {
     "name": "stdout",
     "output_type": "stream",
     "text": [
      "Tamanho da sequência: 1724\n"
     ]
    }
   ],
   "source": [
    "print(\"Tamanho da sequência:\", len(record2.seq))"
   ]
  },
  {
   "cell_type": "markdown",
   "metadata": {},
   "source": [
    "O ID, a descrição e o nome deste registo."
   ]
  },
  {
   "cell_type": "code",
   "execution_count": 8,
   "metadata": {},
   "outputs": [
    {
     "name": "stdout",
     "output_type": "stream",
     "text": [
      "ID: NM_002729.5\n"
     ]
    }
   ],
   "source": [
    "print(\"ID:\",record2.id)"
   ]
  },
  {
   "cell_type": "code",
   "execution_count": 12,
   "metadata": {},
   "outputs": [
    {
     "name": "stdout",
     "output_type": "stream",
     "text": [
      "Descrição: Homo sapiens hematopoietically expressed homeobox (HHEX), mRNA\n"
     ]
    }
   ],
   "source": [
    "print(\"Descrição:\",record2.description)"
   ]
  },
  {
   "cell_type": "code",
   "execution_count": 13,
   "metadata": {},
   "outputs": [
    {
     "name": "stdout",
     "output_type": "stream",
     "text": [
      "Nome: NM_002729\n"
     ]
    }
   ],
   "source": [
    "print(\"Nome:\",record2.name)"
   ]
  },
  {
   "cell_type": "markdown",
   "metadata": {},
   "source": [
    "A lista de anotações globais (annotations) para este registo."
   ]
  },
  {
   "cell_type": "code",
   "execution_count": 14,
   "metadata": {},
   "outputs": [
    {
     "name": "stdout",
     "output_type": "stream",
     "text": [
      "Lista de anotações: {'molecule_type': 'mRNA', 'topology': 'linear', 'data_file_division': 'PRI', 'date': '24-DEC-2022', 'accessions': ['NM_002729', 'NM_001529'], 'sequence_version': 5, 'keywords': ['RefSeq', 'MANE Select'], 'source': 'Homo sapiens (human)', 'organism': 'Homo sapiens', 'taxonomy': ['Eukaryota', 'Metazoa', 'Chordata', 'Craniata', 'Vertebrata', 'Euteleostomi', 'Mammalia', 'Eutheria', 'Euarchontoglires', 'Primates', 'Haplorrhini', 'Catarrhini', 'Hominidae', 'Homo'], 'references': [Reference(title='CK2-induced cooperation of HHEX with the YAP-TEAD4 complex promotes colorectal tumorigenesis', ...), Reference(title='Unraveling the Influence of HHEX Risk Polymorphism rs7923837 on Multiple Sclerosis Pathogenesis', ...), Reference(title='Integrated single-cell transcriptomics and epigenomics reveals strong germinal center-associated etiology of autoimmune risk loci', ...), Reference(title='Hhex inhibits cell migration via regulating RHOA/CDC42-CFL1 axis in human lung cancer cells', ...), Reference(title='Interactome Mapping Provides a Network of Neurodegenerative Disease Proteins and Uncovers Widespread Protein Aggregation in Affected Brains', ...), Reference(title='Differential expression of a novel proline-rich homeobox gene (Prh) in human hematolymphopoietic cells', ...), Reference(title='A homology-based molecular model of the proline-rich homeodomain protein Prh, from haematopoietic cells', ...), Reference(title='PCR cloning of an orphan homeobox gene (PRH) preferentially expressed in myeloid and liver cells', ...), Reference(title='HEX: a novel homeobox gene expressed during haematopoiesis and conserved between mouse and human', ...), Reference(title='Identification of a novel vertebrate homeobox gene expressed in haematopoietic cells', ...)], 'comment': 'REVIEWED REFSEQ: This record has been curated by NCBI staff. The\\nreference sequence was derived from BC015110.1 and BM543214.1.\\nOn Nov 22, 2018 this sequence version replaced NM_002729.4.\\nSummary: This gene encodes a member of the homeobox family of\\ntranscription factors, many of which are involved in developmental\\nprocesses. Expression in specific hematopoietic lineages suggests\\nthat this protein may play a role in hematopoietic differentiation.\\n[provided by RefSeq, Jul 2008].\\nPublication Note:  This RefSeq record includes a subset of the\\npublications that are available for this gene. Please see the Gene\\nrecord to access additional publications.\\nCOMPLETENESS: full length.', 'structured_comment': OrderedDict([('Evidence-Data', OrderedDict([('Transcript exon combination', 'BC050638.1, BC015110.1 [ECO:0000332]'), ('RNAseq introns', 'single sample supports all introns SAMEA1965299, SAMEA1966682 [ECO:0000348]')])), ('RefSeq-Attributes', OrderedDict([('MANE Ensembl match', 'ENST00000282728.10/ ENSP00000282728.5'), ('RefSeq Select criteria', 'based on single protein-coding transcript')]))])}\n"
     ]
    }
   ],
   "source": [
    "print(\"Lista de anotações:\",record2.annotations)"
   ]
  },
  {
   "cell_type": "markdown",
   "metadata": {},
   "source": [
    "O organismo e a sua classificação taxonómica completa."
   ]
  },
  {
   "cell_type": "code",
   "execution_count": 15,
   "metadata": {},
   "outputs": [
    {
     "name": "stdout",
     "output_type": "stream",
     "text": [
      "Organismo: Homo sapiens (human)\n"
     ]
    }
   ],
   "source": [
    "print(\"Organismo:\", record2.annotations[\"source\"])"
   ]
  },
  {
   "cell_type": "code",
   "execution_count": 16,
   "metadata": {},
   "outputs": [
    {
     "name": "stdout",
     "output_type": "stream",
     "text": [
      "Classificação Taxonómica: ['Eukaryota', 'Metazoa', 'Chordata', 'Craniata', 'Vertebrata', 'Euteleostomi', 'Mammalia', 'Eutheria', 'Euarchontoglires', 'Primates', 'Haplorrhini', 'Catarrhini', 'Hominidae', 'Homo']\n"
     ]
    }
   ],
   "source": [
    "print(\"Classificação Taxonómica:\", record2.annotations[\"taxonomy\"])"
   ]
  },
  {
   "cell_type": "markdown",
   "metadata": {},
   "source": [
    "Features do registo, nomeadamente o seu tipo e localização."
   ]
  },
  {
   "cell_type": "code",
   "execution_count": 17,
   "metadata": {},
   "outputs": [
    {
     "name": "stdout",
     "output_type": "stream",
     "text": [
      "Feature: type: source\n",
      "location: [0:1724](+)\n",
      "qualifiers:\n",
      "    Key: chromosome, Value: ['10']\n",
      "    Key: db_xref, Value: ['taxon:9606']\n",
      "    Key: map, Value: ['10q23.33']\n",
      "    Key: mol_type, Value: ['mRNA']\n",
      "    Key: organism, Value: ['Homo sapiens']\n",
      "\n",
      "Feature: type: gene\n",
      "location: [0:1724](+)\n",
      "qualifiers:\n",
      "    Key: db_xref, Value: ['GeneID:3087', 'HGNC:HGNC:4901', 'MIM:604420']\n",
      "    Key: gene, Value: ['HHEX']\n",
      "    Key: gene_synonym, Value: ['HEX; HMPH; HOX11L-PEN; PRH; PRHX']\n",
      "    Key: note, Value: ['hematopoietically expressed homeobox']\n",
      "\n",
      "Feature: type: exon\n",
      "location: [0:393](+)\n",
      "qualifiers:\n",
      "    Key: gene, Value: ['HHEX']\n",
      "    Key: gene_synonym, Value: ['HEX; HMPH; HOX11L-PEN; PRH; PRHX']\n",
      "    Key: inference, Value: ['alignment:Splign:2.1.0']\n",
      "\n",
      "Feature: type: CDS\n",
      "location: [32:845](+)\n",
      "qualifiers:\n",
      "    Key: codon_start, Value: ['1']\n",
      "    Key: db_xref, Value: ['CCDS:CCDS7423.1', 'GeneID:3087', 'HGNC:HGNC:4901', 'MIM:604420']\n",
      "    Key: gene, Value: ['HHEX']\n",
      "    Key: gene_synonym, Value: ['HEX; HMPH; HOX11L-PEN; PRH; PRHX']\n",
      "    Key: note, Value: ['homeobox, hematopoietically expressed; proline-rich homeodomain-containing transcription factor; homeobox protein HEX; homeobox protein PRH']\n",
      "    Key: product, Value: ['hematopoietically-expressed homeobox protein HHEX']\n",
      "    Key: protein_id, Value: ['NP_002720.1']\n",
      "    Key: translation, Value: ['MQYPHPGPAAGAVGVPLYAPTPLLQPAHPTPFYIEDILGRGPAAPTPAPTLPSPNSSFTSLVSPYRTPVYEPTPIHPAFSHHSAAALAAAYGPGGFGGPLYPFPRTVNDYTHALLRHDPLGKPLLWSPFLQRPLHKRKGGQVRFSNDQTIELEKKFETQKYLSPPERKRLAKMLQLSERQVKTWFQNRRAKWRRLKQENPQSNKKEELESLDSSCDQRQDLPSEQNKGASLDSSQCSPSPASQEDLESEISEDSDQEVDIEGDKSYFNAG']\n",
      "\n",
      "Feature: type: misc_feature\n",
      "location: [32:443](+)\n",
      "qualifiers:\n",
      "    Key: gene, Value: ['HHEX']\n",
      "    Key: gene_synonym, Value: ['HEX; HMPH; HOX11L-PEN; PRH; PRHX']\n",
      "    Key: note, Value: ['propagated from UniProtKB/Swiss-Prot (Q03014.1); Region: Interaction with SOX13. /evidence=ECO:0000269|PubMed:20028982']\n",
      "\n",
      "Feature: type: misc_feature\n",
      "location: [188:191](+)\n",
      "qualifiers:\n",
      "    Key: gene, Value: ['HHEX']\n",
      "    Key: gene_synonym, Value: ['HEX; HMPH; HOX11L-PEN; PRH; PRHX']\n",
      "    Key: note, Value: ['Phosphoserine. /evidence=ECO:0007744|PubMed:23186163; propagated from UniProtKB/Swiss-Prot (Q03014.1); phosphorylation site']\n",
      "\n",
      "Feature: type: misc_feature\n",
      "location: [440:842](+)\n",
      "qualifiers:\n",
      "    Key: gene, Value: ['HHEX']\n",
      "    Key: gene_synonym, Value: ['HEX; HMPH; HOX11L-PEN; PRH; PRHX']\n",
      "    Key: note, Value: ['propagated from UniProtKB/Swiss-Prot (Q03014.1); Region: Required for WNT signaling induction. /evidence=ECO:0000269|PubMed:20028982']\n",
      "\n",
      "Feature: type: misc_feature\n",
      "location: [611:842](+)\n",
      "qualifiers:\n",
      "    Key: gene, Value: ['HHEX']\n",
      "    Key: gene_synonym, Value: ['HEX; HMPH; HOX11L-PEN; PRH; PRHX']\n",
      "    Key: note, Value: ['propagated from UniProtKB/Swiss-Prot (Q03014.1); Region: Disordered. /evidence=ECO:0000256|SAM:MobiDB-lite']\n",
      "\n",
      "Feature: type: exon\n",
      "location: [393:572](+)\n",
      "qualifiers:\n",
      "    Key: gene, Value: ['HHEX']\n",
      "    Key: gene_synonym, Value: ['HEX; HMPH; HOX11L-PEN; PRH; PRHX']\n",
      "    Key: inference, Value: ['alignment:Splign:2.1.0']\n",
      "\n",
      "Feature: type: exon\n",
      "location: [572:623](+)\n",
      "qualifiers:\n",
      "    Key: gene, Value: ['HHEX']\n",
      "    Key: gene_synonym, Value: ['HEX; HMPH; HOX11L-PEN; PRH; PRHX']\n",
      "    Key: inference, Value: ['alignment:Splign:2.1.0']\n",
      "\n",
      "Feature: type: exon\n",
      "location: [623:1724](+)\n",
      "qualifiers:\n",
      "    Key: gene, Value: ['HHEX']\n",
      "    Key: gene_synonym, Value: ['HEX; HMPH; HOX11L-PEN; PRH; PRHX']\n",
      "    Key: inference, Value: ['alignment:Splign:2.1.0']\n",
      "\n",
      "Feature: type: regulatory\n",
      "location: [1691:1697](+)\n",
      "qualifiers:\n",
      "    Key: gene, Value: ['HHEX']\n",
      "    Key: gene_synonym, Value: ['HEX; HMPH; HOX11L-PEN; PRH; PRHX']\n",
      "    Key: note, Value: ['hexamer: AATAAA']\n",
      "    Key: regulatory_class, Value: ['polyA_signal_sequence']\n",
      "\n",
      "Feature: type: polyA_site\n",
      "location: [1723:1724](+)\n",
      "qualifiers:\n",
      "    Key: gene, Value: ['HHEX']\n",
      "    Key: gene_synonym, Value: ['HEX; HMPH; HOX11L-PEN; PRH; PRHX']\n",
      "    Key: note, Value: ['major polyA site']\n",
      "\n"
     ]
    }
   ],
   "source": [
    "for features in record2.features:\n",
    "    print (\"Feature:\", features)"
   ]
  },
  {
   "cell_type": "code",
   "execution_count": 43,
   "metadata": {},
   "outputs": [
    {
     "name": "stdout",
     "output_type": "stream",
     "text": [
      "source\n",
      "[0:105545](+)\n",
      "gene\n",
      "[12177:>93366](+)\n",
      "mRNA\n",
      "join{[12177:12390](+), [13545:13644](+), [21881:21935](+), [31127:31205](+), [32704:32793](+), [33399:33539](+), [37780:37886](+), [40371:40417](+), [41738:41815](+), [42800:46226](+), [46628:46717](+), [55085:55257](+), [61046:61173](+), [63139:63330](+), [66422:66733](+), [69965:70053](+), [73709:73787](+), [74287:74328](+), [80525:80609](+), [86543:86598](+), [88466:88540](+), [89957:90018](+), [91858:93366](+)}\n",
      "mRNA\n",
      "join{[12177:12390](+), [13545:13644](+), [21881:21935](+), [31127:31205](+), [32704:32793](+), [33399:33539](+), [37780:37886](+), [40371:40417](+), [41738:41815](+), [42800:46226](+), [46628:46717](+), [55085:55257](+), [58261:58327](+), [61049:61173](+), [63139:63330](+), [66422:66733](+), [69965:70053](+), [73709:73787](+), [74287:74328](+), [80525:80609](+), [86543:86598](+), [88466:88540](+), [89957:90018](+), [91858:93366](+)}\n",
      "mRNA\n",
      "join{[12209:12384](+), [13545:13644](+), [31127:31205](+), [32704:32793](+), [33399:33539](+), [37780:37886](+), [40371:40417](+), [41738:41815](+), [42800:46226](+), [46628:46717](+), [55085:55257](+), [61046:61173](+), [63139:63330](+), [66422:66733](+), [69965:70053](+), [73709:73787](+), [74287:74328](+), [80525:80609](+), [86543:86598](+), [88466:88540](+), [89957:90018](+), [91858:93366](+)}\n",
      "mRNA\n",
      "join{[12209:12384](+), [13545:13644](+), [21881:21935](+), [31127:31205](+), [32704:32793](+), [33399:33539](+), [37780:37886](+), [40371:40417](+), [41738:41815](+), [42800:42917](+), [46628:46717](+), [55085:55257](+), [61049:61173](+), [63139:63330](+), [66422:66733](+), [69965:70053](+), [73709:73787](+), [74287:74328](+), [80525:80609](+), [86543:86598](+), [89957:90018](+), [91858:93366](+)}\n",
      "misc_RNA\n",
      "join{[12337:12479](+), [13545:13644](+), [21881:21935](+), [31127:31183](+), [32704:32793](+), [33399:33539](+), [37783:37886](+), [40371:40417](+), [41738:41815](+), [42800:46226](+), [46628:46717](+), [55085:55257](+), [61046:61173](+), [63139:63330](+), [66422:66733](+), [69965:70053](+), [73709:73787](+), [74287:74328](+), [80525:80609](+), [86543:86598](+), [88466:88540](+), [89957:90018](+), [91858:>93366](+)}\n",
      "mRNA\n",
      "join{[13545:13644](+), [21881:21935](+), [31127:31205](+), [32704:32793](+), [33399:33539](+), [37780:37886](+), [40371:40417](+), [41738:41815](+), [42800:42917](+), [46628:46717](+), [55085:55257](+), [61049:61173](+), [63139:63330](+), [66422:66733](+), [69965:70053](+), [73709:73787](+), [74287:74328](+), [80525:80609](+), [86543:86598](+), [88466:88540](+), [89957:90018](+), [91858:93366](+)}\n",
      "CDS\n",
      "join{[13564:13644](+), [21881:21935](+), [31127:31205](+), [32704:32793](+), [33399:33539](+), [37780:37886](+), [40371:40417](+), [41738:41815](+), [42800:42917](+), [46628:46717](+), [55085:55257](+), [61049:61173](+), [63139:63330](+), [66422:66733](+), [69965:70053](+), [73709:73787](+), [74287:74328](+), [80525:80609](+), [86543:86598](+), [88466:88540](+), [89957:90018](+), [91858:91983](+)}\n",
      "CDS\n",
      "join{[13564:13644](+), [21881:21935](+), [31127:31205](+), [32704:32793](+), [33399:33539](+), [37780:37886](+), [40371:40417](+), [41738:41815](+), [42800:46226](+), [46628:46717](+), [55085:55257](+), [61046:61173](+), [63139:63330](+), [66422:66733](+), [69965:70053](+), [73709:73787](+), [74287:74328](+), [80525:80609](+), [86543:86598](+), [88466:88540](+), [89957:90018](+), [91858:91983](+)}\n",
      "CDS\n",
      "join{[13564:13644](+), [21881:21935](+), [31127:31205](+), [32704:32793](+), [33399:33539](+), [37780:37886](+), [40371:40417](+), [41738:41815](+), [42800:46226](+), [46628:46717](+), [55085:55257](+), [58261:58327](+), [61049:61173](+), [63139:63330](+), [66422:66733](+), [69965:70053](+), [73709:73787](+), [74287:74328](+), [80525:80609](+), [86543:86598](+), [88466:88540](+), [89957:90018](+), [91858:91983](+)}\n",
      "CDS\n",
      "join{[31134:31205](+), [32704:32793](+), [33399:33539](+), [37780:37886](+), [40371:40417](+), [41738:41815](+), [42800:46226](+), [46628:46717](+), [55085:55257](+), [61046:61173](+), [63139:63330](+), [66422:66733](+), [69965:70053](+), [73709:73787](+), [74287:74328](+), [80525:80609](+), [86543:86598](+), [88466:88540](+), [89957:90018](+), [91858:91983](+)}\n",
      "CDS\n",
      "join{[13564:13644](+), [21881:21935](+), [31127:31205](+), [32704:32793](+), [33399:33539](+), [37780:37886](+), [40371:40417](+), [41738:41815](+), [42800:42917](+), [46628:46717](+), [55085:55257](+), [61049:61173](+), [63139:63330](+), [66422:66733](+), [69965:70053](+), [73709:73787](+), [74287:74328](+), [80525:80609](+), [86543:86598](+), [89957:90018](+), [91858:91877](+)}\n",
      "gene\n",
      "[57844:58400](-)\n",
      "exon\n",
      "[57844:58400](-)\n",
      "gene\n",
      "[<0:12078](-)\n",
      "misc_RNA\n",
      "join{[11890:12078](-), [<6390:6453](-)}\n"
     ]
    }
   ],
   "source": [
    "for f in range(len(record2.features)):\n",
    "    print(record2.features[f].type)\n",
    "    print(record2.features[f].location)\n"
   ]
  },
  {
   "cell_type": "markdown",
   "metadata": {},
   "source": [
    "Sequências codificantes associadas a este registo  e respetivo índice."
   ]
  },
  {
   "cell_type": "code",
   "execution_count": 22,
   "metadata": {},
   "outputs": [
    {
     "name": "stdout",
     "output_type": "stream",
     "text": [
      "O índice das sequência codificante é: [3]\n",
      "type: CDS\n",
      "location: [32:845](+)\n",
      "qualifiers:\n",
      "    Key: codon_start, Value: ['1']\n",
      "    Key: db_xref, Value: ['CCDS:CCDS7423.1', 'GeneID:3087', 'HGNC:HGNC:4901', 'MIM:604420']\n",
      "    Key: gene, Value: ['HHEX']\n",
      "    Key: gene_synonym, Value: ['HEX; HMPH; HOX11L-PEN; PRH; PRHX']\n",
      "    Key: note, Value: ['homeobox, hematopoietically expressed; proline-rich homeodomain-containing transcription factor; homeobox protein HEX; homeobox protein PRH']\n",
      "    Key: product, Value: ['hematopoietically-expressed homeobox protein HHEX']\n",
      "    Key: protein_id, Value: ['NP_002720.1']\n",
      "    Key: translation, Value: ['MQYPHPGPAAGAVGVPLYAPTPLLQPAHPTPFYIEDILGRGPAAPTPAPTLPSPNSSFTSLVSPYRTPVYEPTPIHPAFSHHSAAALAAAYGPGGFGGPLYPFPRTVNDYTHALLRHDPLGKPLLWSPFLQRPLHKRKGGQVRFSNDQTIELEKKFETQKYLSPPERKRLAKMLQLSERQVKTWFQNRRAKWRRLKQENPQSNKKEELESLDSSCDQRQDLPSEQNKGASLDSSQCSPSPASQEDLESEISEDSDQEVDIEGDKSYFNAG']\n",
      "\n"
     ]
    }
   ],
   "source": [
    "indices=[]\n",
    "for f in range(len(record2.features)):\n",
    "   if record2.features[f].type == \"CDS\":\n",
    "    indices.append(f)\n",
    "print(\"O índice das sequência codificante é:\",indices)\n",
    "for a in indices:\n",
    "    print (record2.features[a])"
   ]
  },
  {
   "cell_type": "markdown",
   "metadata": {},
   "source": [
    "A proteína codificada e qual o seu significado biológico."
   ]
  },
  {
   "cell_type": "code",
   "execution_count": 19,
   "metadata": {},
   "outputs": [
    {
     "name": "stdout",
     "output_type": "stream",
     "text": [
      "Proteínas codificadas e os seus significados biológicos:\n",
      "['NP_002720.1'] ['hematopoietically-expressed homeobox protein HHEX']\n"
     ]
    }
   ],
   "source": [
    "qualifiersid=[]\n",
    "qualifiersim=[]\n",
    "for a in indices:\n",
    "    qualifiersid.append(record2.features[a].qualifiers[\"protein_id\"]) \n",
    "    qualifiersim.append(record2.features[a].qualifiers[\"product\"]) \n",
    "print (\"Proteínas codificadas e os seus significados biológicos:\")\n",
    "for c in range(len(indices)):\n",
    "       print ( qualifiersid[c], qualifiersim[c])\n",
    "              "
   ]
  },
  {
   "cell_type": "markdown",
   "metadata": {},
   "source": [
    "O número de genes anotados no registo (feature tipo “gene”) e quais estão anotados em cada uma das cadeias."
   ]
  },
  {
   "cell_type": "code",
   "execution_count": 20,
   "metadata": {},
   "outputs": [
    {
     "name": "stdout",
     "output_type": "stream",
     "text": [
      "Número de genes: 1\n"
     ]
    }
   ],
   "source": [
    "genes=[]\n",
    "for g in range(len(record2.features)):\n",
    "    if record2.features[g].type == \"gene\":\n",
    "        genes.append(g)\n",
    "print(\"Número de genes:\",len(genes))"
   ]
  },
  {
   "cell_type": "code",
   "execution_count": 21,
   "metadata": {},
   "outputs": [
    {
     "name": "stdout",
     "output_type": "stream",
     "text": [
      "Gene ['HHEX'] anotado na cadeia 1\n"
     ]
    }
   ],
   "source": [
    "for a in genes:\n",
    "    print (\"Gene\", record2.features[a].qualifiers[\"gene\"],\"anotado na cadeia\", record2.features[a].location.strand)"
   ]
  }
 ],
 "metadata": {
  "kernelspec": {
   "display_name": "Python 3 (ipykernel)",
   "language": "python",
   "name": "python3"
  },
  "language_info": {
   "codemirror_mode": {
    "name": "ipython",
    "version": 3
   },
   "file_extension": ".py",
   "mimetype": "text/x-python",
   "name": "python",
   "nbconvert_exporter": "python",
   "pygments_lexer": "ipython3",
   "version": "3.9.12"
  }
 },
 "nbformat": 4,
 "nbformat_minor": 4
}
